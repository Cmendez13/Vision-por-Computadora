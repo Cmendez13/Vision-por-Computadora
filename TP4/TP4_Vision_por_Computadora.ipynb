{
  "cells": [
    {
      "cell_type": "markdown",
      "source": [
        "# TP 4 Enmascaramiento de Video   "
      ],
      "metadata": {
        "id": "VtJsBXI1PtOa"
      }
    },
    {
      "cell_type": "markdown",
      "source": [
        "## Librerias necesarias"
      ],
      "metadata": {
        "id": "5bFFX1ZaPs_i"
      }
    },
    {
      "cell_type": "code",
      "source": [
        "import cv2\n",
        "import numpy as np"
      ],
      "metadata": {
        "id": "UuTwFn9wRC21"
      },
      "execution_count": null,
      "outputs": []
    },
    {
      "cell_type": "markdown",
      "source": [
        "# Implementación de la solución"
      ],
      "metadata": {
        "id": "GIZFbSyvTaS3"
      }
    },
    {
      "cell_type": "code",
      "source": [
        "# Parametros\n",
        "N = 30  # Numero de frames para la estimación de la media\n",
        "update_interval = 100  # Actualizamos el background cada 100 frames\n",
        "\n",
        "def median_background_estimator(video_path, N, update_interval):\n",
        "    cap = cv2.VideoCapture(video_path)\n",
        "    frames = []\n",
        "    fg_masks = []\n",
        "    frame_count = 0\n",
        "\n",
        "    while cap.isOpened():\n",
        "        ret, frame = cap.read()\n",
        "        if not ret:\n",
        "            break\n",
        "\n",
        "        gray = cv2.cvtColor(frame, cv2.COLOR_BGR2GRAY)\n",
        "        frames.append(gray)\n",
        "        frame_count += 1\n",
        "\n",
        "        if len(frames) > N:\n",
        "            frames.pop(0)\n",
        "\n",
        "        if frame_count % update_interval == 0 or frame_count <= N:\n",
        "            # Computamos la media del background\n",
        "            background = np.median(np.array(frames), axis=0).astype(np.uint8)\n",
        "\n",
        "        # Compuatamos la foreground mask\n",
        "        fg_mask = cv2.absdiff(gray, background)\n",
        "        _, fg_mask = cv2.threshold(fg_mask, 25, 255, cv2.THRESH_BINARY)\n",
        "        fg_masks.append(fg_mask)\n",
        "\n",
        "        # Aplicamos la máscara al frame\n",
        "        fg_segmented = cv2.bitwise_and(frame, frame, mask=fg_mask)\n",
        "\n",
        "        # Mostramos la salida segmentada con cv2.imshow\n",
        "        cv2.imshow('Segmented Frame', fg_segmented)\n",
        "        cv2.imshow('Foreground Mask', fg_mask)\n",
        "        cv2.imshow('Original Frame', frame)\n",
        "\n",
        "        if cv2.waitKey(30) & 0xFF == ord('q'):\n",
        "            break\n",
        "\n",
        "    cap.release()\n",
        "    cv2.destroyAllWindows()\n",
        "\n",
        "def gmm_background_subtractor(video_path):\n",
        "    cap = cv2.VideoCapture(video_path)\n",
        "    fgbg = cv2.createBackgroundSubtractorMOG2(history=500, varThreshold=16, detectShadows=True)\n",
        "\n",
        "    while cap.isOpened():\n",
        "        ret, frame = cap.read()\n",
        "        if not ret:\n",
        "            break\n",
        "\n",
        "        fg_mask = fgbg.apply(frame)\n",
        "\n",
        "        # Aplicamos la máscara al frame\n",
        "        fg_segmented = cv2.bitwise_and(frame, frame, mask=fg_mask)\n",
        "\n",
        "        # Mostramos la salida segmentada con cv2.imshow\n",
        "        cv2.imshow('Segmented Frame', fg_segmented)\n",
        "        cv2.imshow('Foreground Mask', fg_mask)\n",
        "        cv2.imshow('Original Frame', frame)\n",
        "\n",
        "        if cv2.waitKey(30) & 0xFF == ord('q'):\n",
        "            break\n",
        "\n",
        "    cap.release()\n",
        "    cv2.destroyAllWindows()"
      ],
      "metadata": {
        "id": "CgsHpG02PKoZ"
      },
      "execution_count": null,
      "outputs": []
    },
    {
      "cell_type": "markdown",
      "source": [
        "# Ejecución"
      ],
      "metadata": {
        "id": "xiZiJiROTiMf"
      }
    },
    {
      "cell_type": "code",
      "source": [
        "# Path  al archivo de video\n",
        "video_path = 'video/vtest.avi'\n",
        "\n",
        "# Detector de Background Naive con Estimation de media\n",
        "median_background_estimator(video_path, N=N, update_interval=update_interval)\n",
        "\n",
        "# Subtractor de Background GMM-based\n",
        "gmm_background_subtractor(video_path)\n"
      ],
      "metadata": {
        "id": "ZW1SCQrDPGRv"
      },
      "execution_count": 5,
      "outputs": []
    }
  ],
  "metadata": {
    "colab": {
      "provenance": []
    },
    "kernelspec": {
      "display_name": "Python 3",
      "name": "python3"
    },
    "language_info": {
      "codemirror_mode": {
        "name": "ipython",
        "version": 3
      },
      "file_extension": ".py",
      "mimetype": "text/x-python",
      "name": "python",
      "nbconvert_exporter": "python",
      "pygments_lexer": "ipython3",
      "version": "3.12.3"
    }
  },
  "nbformat": 4,
  "nbformat_minor": 0
}